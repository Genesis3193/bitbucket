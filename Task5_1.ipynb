{
 "cells": [
  {
   "cell_type": "code",
   "execution_count": 9,
   "metadata": {},
   "outputs": [],
   "source": [
    "import csv\n",
    "from telethon.sync import TelegramClient\n",
    "import configparser\n",
    "\n",
    " \n",
    "config = configparser.ConfigParser() \n",
    "config.read(\"config.ini\")  \n",
    "\n",
    "api_id   = config['Telegram']['api_id'] \n",
    "api_hash = config['Telegram']['api_hash'] \n",
    "username = config['Telegram']['username']\n",
    "\n",
    "i=0\n",
    "with open(\"messages.csv\", mode=\"w\", encoding='utf-8') as w_file:\n",
    "    file_writer = csv.writer(w_file, delimiter = \",\", lineterminator=\"\\n\")\n",
    "    file_writer.writerow(['Date', 'Messages'])\n",
    "    async with TelegramClient(username, api_id, api_hash) as client:\n",
    "        async for message in client.iter_messages('https://t.me/Sputnik_results'):\n",
    "            if i < 1000:\n",
    "                file_writer.writerow([message.date, message.text])\n",
    "                i += 1\n",
    "            else: \n",
    "                break\n"
   ]
  },
  {
   "cell_type": "code",
   "execution_count": null,
   "metadata": {},
   "outputs": [],
   "source": []
  }
 ],
 "metadata": {
  "kernelspec": {
   "display_name": "Python 3",
   "language": "python",
   "name": "python3"
  },
  "language_info": {
   "codemirror_mode": {
    "name": "ipython",
    "version": 3
   },
   "file_extension": ".py",
   "mimetype": "text/x-python",
   "name": "python",
   "nbconvert_exporter": "python",
   "pygments_lexer": "ipython3",
   "version": "3.7.3"
  }
 },
 "nbformat": 4,
 "nbformat_minor": 2
}
