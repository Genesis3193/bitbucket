{
  "nbformat": 4,
  "nbformat_minor": 0,
  "metadata": {
    "kernelspec": {
      "display_name": "Python 3",
      "language": "python",
      "name": "python3"
    },
    "language_info": {
      "codemirror_mode": {
        "name": "ipython",
        "version": 3
      },
      "file_extension": ".py",
      "mimetype": "text/x-python",
      "name": "python",
      "nbconvert_exporter": "python",
      "pygments_lexer": "ipython3",
      "version": "3.7.3"
    },
    "colab": {
      "name": "part2.ipynb",
      "provenance": []
    }
  },
  "cells": [
    {
      "cell_type": "markdown",
      "metadata": {
        "id": "-FLTAW-59fQv"
      },
      "source": [
        "## Часть 1\n",
        "Напишите скрипт, который скачивает  сообщения с Телеграм-канала https://t.me/Sputnik_results . Сохраните сообщения в формате по вашему выбору (.csv, .jsonl, sqlite, parquet, и т.д.). Откройте с помощью Pandas или Arrow, постройте график числа сообщений в зависимости от даты. "
      ]
    },
    {
      "cell_type": "markdown",
      "metadata": {
        "id": "rSEckm999fQx"
      },
      "source": [
        "### Часть 2\n",
        "1.Напишите функции для извлечения данных из сообщений:\n",
        "   - пол участника\n",
        "   - возраст участника\n",
        "\n",
        "   Постройте диаграммы для визуализации. \n",
        "\n",
        "2.Реализуйте какой-либо анализ этих данных на ваше усмотрение. Например их можно кластеризовать и интерпретировать кластеры, или попробовать выделить статистику по среднему количеству антител в зависимости от возраста, или посчитать количество заболевших после вакцинации. Обязательная визуализация. "
      ]
    },
    {
      "cell_type": "code",
      "metadata": {
        "id": "DhvpQpL69fQy"
      },
      "source": [
        "import pandas as pd\n",
        "import re\n",
        "import numpy as np\n"
      ],
      "execution_count": 2,
      "outputs": []
    },
    {
      "cell_type": "code",
      "metadata": {
        "id": "LBJyRCMs9fQz"
      },
      "source": [
        "df = pd.read_csv('/content/messages.csv', encoding='utf-8')"
      ],
      "execution_count": null,
      "outputs": []
    },
    {
      "cell_type": "code",
      "metadata": {
        "id": "4Ih1TMAv9fQz",
        "outputId": "2b21825e-49ce-4b18-d050-de1ea6938027"
      },
      "source": [
        "df.head(10)"
      ],
      "execution_count": null,
      "outputs": [
        {
          "data": {
            "text/html": [
              "<div>\n",
              "<style scoped>\n",
              "    .dataframe tbody tr th:only-of-type {\n",
              "        vertical-align: middle;\n",
              "    }\n",
              "\n",
              "    .dataframe tbody tr th {\n",
              "        vertical-align: top;\n",
              "    }\n",
              "\n",
              "    .dataframe thead th {\n",
              "        text-align: right;\n",
              "    }\n",
              "</style>\n",
              "<table border=\"1\" class=\"dataframe\">\n",
              "  <thead>\n",
              "    <tr style=\"text-align: right;\">\n",
              "      <th></th>\n",
              "      <th>Date</th>\n",
              "      <th>Messages</th>\n",
              "    </tr>\n",
              "  </thead>\n",
              "  <tbody>\n",
              "    <tr>\n",
              "      <th>0</th>\n",
              "      <td>2021-11-17 15:28:29+00:00</td>\n",
              "      <td>@duggarrik неделю читает правила чата.</td>\n",
              "    </tr>\n",
              "    <tr>\n",
              "      <th>1</th>\n",
              "      <td>2021-11-17 15:11:57+00:00</td>\n",
              "      <td>обсуждения в чате @sputnik_is_starting. Здесь ...</td>\n",
              "    </tr>\n",
              "    <tr>\n",
              "      <th>2</th>\n",
              "      <td>2021-11-17 15:10:55+00:00</td>\n",
              "      <td>Добрый день, я поставила прививку 03.11 а 10.1...</td>\n",
              "    </tr>\n",
              "    <tr>\n",
              "      <th>3</th>\n",
              "      <td>2021-11-17 15:07:12+00:00</td>\n",
              "      <td>#ревак Спутником-V 16 ноября в 15:00, сразу же...</td>\n",
              "    </tr>\n",
              "    <tr>\n",
              "      <th>4</th>\n",
              "      <td>2021-11-17 15:00:03+00:00</td>\n",
              "      <td>**Народные отчеты о вакцинации\\r\\n\\r\\n**⚠️ **Т...</td>\n",
              "    </tr>\n",
              "    <tr>\n",
              "      <th>5</th>\n",
              "      <td>2021-11-17 14:14:12+00:00</td>\n",
              "      <td>V2 15.11.21 поставили вторую дозу также вместе...</td>\n",
              "    </tr>\n",
              "    <tr>\n",
              "      <th>6</th>\n",
              "      <td>2021-11-17 12:30:03+00:00</td>\n",
              "      <td>📣 **ВЕСТНИК V1V2** выпуск #40.x от 08.11.2021@...</td>\n",
              "    </tr>\n",
              "    <tr>\n",
              "      <th>7</th>\n",
              "      <td>2021-11-17 12:15:33+00:00</td>\n",
              "      <td>Ж. 26, не болела. реактивный артрит в стадии р...</td>\n",
              "    </tr>\n",
              "    <tr>\n",
              "      <th>8</th>\n",
              "      <td>2021-11-17 12:03:57+00:00</td>\n",
              "      <td>#ревак\\r\\nЖ44, без хронич, не болела. \\r\\n04.0...</td>\n",
              "    </tr>\n",
              "    <tr>\n",
              "      <th>9</th>\n",
              "      <td>2021-11-17 11:03:30+00:00</td>\n",
              "      <td>Ж.53. не болела. гипотериоз,АИТ, гипертония. \\...</td>\n",
              "    </tr>\n",
              "  </tbody>\n",
              "</table>\n",
              "</div>"
            ],
            "text/plain": [
              "                        Date  \\\n",
              "0  2021-11-17 15:28:29+00:00   \n",
              "1  2021-11-17 15:11:57+00:00   \n",
              "2  2021-11-17 15:10:55+00:00   \n",
              "3  2021-11-17 15:07:12+00:00   \n",
              "4  2021-11-17 15:00:03+00:00   \n",
              "5  2021-11-17 14:14:12+00:00   \n",
              "6  2021-11-17 12:30:03+00:00   \n",
              "7  2021-11-17 12:15:33+00:00   \n",
              "8  2021-11-17 12:03:57+00:00   \n",
              "9  2021-11-17 11:03:30+00:00   \n",
              "\n",
              "                                            Messages  \n",
              "0             @duggarrik неделю читает правила чата.  \n",
              "1  обсуждения в чате @sputnik_is_starting. Здесь ...  \n",
              "2  Добрый день, я поставила прививку 03.11 а 10.1...  \n",
              "3  #ревак Спутником-V 16 ноября в 15:00, сразу же...  \n",
              "4  **Народные отчеты о вакцинации\\r\\n\\r\\n**⚠️ **Т...  \n",
              "5  V2 15.11.21 поставили вторую дозу также вместе...  \n",
              "6  📣 **ВЕСТНИК V1V2** выпуск #40.x от 08.11.2021@...  \n",
              "7  Ж. 26, не болела. реактивный артрит в стадии р...  \n",
              "8  #ревак\\r\\nЖ44, без хронич, не болела. \\r\\n04.0...  \n",
              "9  Ж.53. не болела. гипотериоз,АИТ, гипертония. \\...  "
            ]
          },
          "execution_count": 46,
          "metadata": {},
          "output_type": "execute_result"
        }
      ]
    },
    {
      "cell_type": "code",
      "metadata": {
        "id": "mPEseAFl9fQ0",
        "outputId": "0b8a55c5-23a7-4beb-9c36-4483ebae4149"
      },
      "source": [
        "df['Male'] = None\n",
        "df['Female'] = None\n",
        "df['Age'] = None\n",
        "df.head()"
      ],
      "execution_count": null,
      "outputs": [
        {
          "data": {
            "text/html": [
              "<div>\n",
              "<style scoped>\n",
              "    .dataframe tbody tr th:only-of-type {\n",
              "        vertical-align: middle;\n",
              "    }\n",
              "\n",
              "    .dataframe tbody tr th {\n",
              "        vertical-align: top;\n",
              "    }\n",
              "\n",
              "    .dataframe thead th {\n",
              "        text-align: right;\n",
              "    }\n",
              "</style>\n",
              "<table border=\"1\" class=\"dataframe\">\n",
              "  <thead>\n",
              "    <tr style=\"text-align: right;\">\n",
              "      <th></th>\n",
              "      <th>Date</th>\n",
              "      <th>Messages</th>\n",
              "      <th>Male</th>\n",
              "      <th>Female</th>\n",
              "      <th>Age</th>\n",
              "    </tr>\n",
              "  </thead>\n",
              "  <tbody>\n",
              "    <tr>\n",
              "      <th>0</th>\n",
              "      <td>2021-11-17 15:28:29+00:00</td>\n",
              "      <td>@duggarrik неделю читает правила чата.</td>\n",
              "      <td>None</td>\n",
              "      <td>None</td>\n",
              "      <td>None</td>\n",
              "    </tr>\n",
              "    <tr>\n",
              "      <th>1</th>\n",
              "      <td>2021-11-17 15:11:57+00:00</td>\n",
              "      <td>обсуждения в чате @sputnik_is_starting. Здесь ...</td>\n",
              "      <td>None</td>\n",
              "      <td>None</td>\n",
              "      <td>None</td>\n",
              "    </tr>\n",
              "    <tr>\n",
              "      <th>2</th>\n",
              "      <td>2021-11-17 15:10:55+00:00</td>\n",
              "      <td>Добрый день, я поставила прививку 03.11 а 10.1...</td>\n",
              "      <td>None</td>\n",
              "      <td>None</td>\n",
              "      <td>None</td>\n",
              "    </tr>\n",
              "    <tr>\n",
              "      <th>3</th>\n",
              "      <td>2021-11-17 15:07:12+00:00</td>\n",
              "      <td>#ревак Спутником-V 16 ноября в 15:00, сразу же...</td>\n",
              "      <td>None</td>\n",
              "      <td>None</td>\n",
              "      <td>None</td>\n",
              "    </tr>\n",
              "    <tr>\n",
              "      <th>4</th>\n",
              "      <td>2021-11-17 15:00:03+00:00</td>\n",
              "      <td>**Народные отчеты о вакцинации\\r\\n\\r\\n**⚠️ **Т...</td>\n",
              "      <td>None</td>\n",
              "      <td>None</td>\n",
              "      <td>None</td>\n",
              "    </tr>\n",
              "  </tbody>\n",
              "</table>\n",
              "</div>"
            ],
            "text/plain": [
              "                        Date  \\\n",
              "0  2021-11-17 15:28:29+00:00   \n",
              "1  2021-11-17 15:11:57+00:00   \n",
              "2  2021-11-17 15:10:55+00:00   \n",
              "3  2021-11-17 15:07:12+00:00   \n",
              "4  2021-11-17 15:00:03+00:00   \n",
              "\n",
              "                                            Messages  Male Female   Age  \n",
              "0             @duggarrik неделю читает правила чата.  None   None  None  \n",
              "1  обсуждения в чате @sputnik_is_starting. Здесь ...  None   None  None  \n",
              "2  Добрый день, я поставила прививку 03.11 а 10.1...  None   None  None  \n",
              "3  #ревак Спутником-V 16 ноября в 15:00, сразу же...  None   None  None  \n",
              "4  **Народные отчеты о вакцинации\\r\\n\\r\\n**⚠️ **Т...  None   None  None  "
            ]
          },
          "execution_count": 47,
          "metadata": {},
          "output_type": "execute_result"
        }
      ]
    },
    {
      "cell_type": "code",
      "metadata": {
        "id": "60CHFOQq9fQ0",
        "outputId": "f4775713-6abf-419c-d3fb-d4d4fff85f98"
      },
      "source": [
        "pattern=re.compile(r'([MМЖ])(.{0,2})(\\d\\d)')\n",
        "for i in range(df.shape[0]):\n",
        "    pat = pattern.search(str(df['Messages'][i]))\n",
        "    if pat != None:\n",
        "        if pat.group(1) == 'M' or pat.group(1) == 'М':\n",
        "            df['Male'][i] = 1\n",
        "            df['Female'][i] = 0\n",
        "        else:\n",
        "            df['Male'][i] = 0\n",
        "            df['Female'][i] = 1\n",
        "        df['Age'][i] = str(pat.group(3))\n",
        "df.head(20)"
      ],
      "execution_count": null,
      "outputs": [
        {
          "data": {
            "text/html": [
              "<div>\n",
              "<style scoped>\n",
              "    .dataframe tbody tr th:only-of-type {\n",
              "        vertical-align: middle;\n",
              "    }\n",
              "\n",
              "    .dataframe tbody tr th {\n",
              "        vertical-align: top;\n",
              "    }\n",
              "\n",
              "    .dataframe thead th {\n",
              "        text-align: right;\n",
              "    }\n",
              "</style>\n",
              "<table border=\"1\" class=\"dataframe\">\n",
              "  <thead>\n",
              "    <tr style=\"text-align: right;\">\n",
              "      <th></th>\n",
              "      <th>Date</th>\n",
              "      <th>Messages</th>\n",
              "      <th>Male</th>\n",
              "      <th>Female</th>\n",
              "      <th>Age</th>\n",
              "    </tr>\n",
              "  </thead>\n",
              "  <tbody>\n",
              "    <tr>\n",
              "      <th>0</th>\n",
              "      <td>2021-11-17 15:28:29+00:00</td>\n",
              "      <td>@duggarrik неделю читает правила чата.</td>\n",
              "      <td>None</td>\n",
              "      <td>None</td>\n",
              "      <td>None</td>\n",
              "    </tr>\n",
              "    <tr>\n",
              "      <th>1</th>\n",
              "      <td>2021-11-17 15:11:57+00:00</td>\n",
              "      <td>обсуждения в чате @sputnik_is_starting. Здесь ...</td>\n",
              "      <td>None</td>\n",
              "      <td>None</td>\n",
              "      <td>None</td>\n",
              "    </tr>\n",
              "    <tr>\n",
              "      <th>2</th>\n",
              "      <td>2021-11-17 15:10:55+00:00</td>\n",
              "      <td>Добрый день, я поставила прививку 03.11 а 10.1...</td>\n",
              "      <td>None</td>\n",
              "      <td>None</td>\n",
              "      <td>None</td>\n",
              "    </tr>\n",
              "    <tr>\n",
              "      <th>3</th>\n",
              "      <td>2021-11-17 15:07:12+00:00</td>\n",
              "      <td>#ревак Спутником-V 16 ноября в 15:00, сразу же...</td>\n",
              "      <td>None</td>\n",
              "      <td>None</td>\n",
              "      <td>None</td>\n",
              "    </tr>\n",
              "    <tr>\n",
              "      <th>4</th>\n",
              "      <td>2021-11-17 15:00:03+00:00</td>\n",
              "      <td>**Народные отчеты о вакцинации\\r\\n\\r\\n**⚠️ **Т...</td>\n",
              "      <td>None</td>\n",
              "      <td>None</td>\n",
              "      <td>None</td>\n",
              "    </tr>\n",
              "    <tr>\n",
              "      <th>5</th>\n",
              "      <td>2021-11-17 14:14:12+00:00</td>\n",
              "      <td>V2 15.11.21 поставили вторую дозу также вместе...</td>\n",
              "      <td>1</td>\n",
              "      <td>0</td>\n",
              "      <td>27</td>\n",
              "    </tr>\n",
              "    <tr>\n",
              "      <th>6</th>\n",
              "      <td>2021-11-17 12:30:03+00:00</td>\n",
              "      <td>📣 **ВЕСТНИК V1V2** выпуск #40.x от 08.11.2021@...</td>\n",
              "      <td>None</td>\n",
              "      <td>None</td>\n",
              "      <td>None</td>\n",
              "    </tr>\n",
              "    <tr>\n",
              "      <th>7</th>\n",
              "      <td>2021-11-17 12:15:33+00:00</td>\n",
              "      <td>Ж. 26, не болела. реактивный артрит в стадии р...</td>\n",
              "      <td>0</td>\n",
              "      <td>1</td>\n",
              "      <td>26</td>\n",
              "    </tr>\n",
              "    <tr>\n",
              "      <th>8</th>\n",
              "      <td>2021-11-17 12:03:57+00:00</td>\n",
              "      <td>#ревак\\r\\nЖ44, без хронич, не болела. \\r\\n04.0...</td>\n",
              "      <td>0</td>\n",
              "      <td>1</td>\n",
              "      <td>44</td>\n",
              "    </tr>\n",
              "    <tr>\n",
              "      <th>9</th>\n",
              "      <td>2021-11-17 11:03:30+00:00</td>\n",
              "      <td>Ж.53. не болела. гипотериоз,АИТ, гипертония. \\...</td>\n",
              "      <td>0</td>\n",
              "      <td>1</td>\n",
              "      <td>53</td>\n",
              "    </tr>\n",
              "    <tr>\n",
              "      <th>10</th>\n",
              "      <td>2021-11-17 09:59:42+00:00</td>\n",
              "      <td>[Online](tg://user?id=1270908782) неделю читае...</td>\n",
              "      <td>None</td>\n",
              "      <td>None</td>\n",
              "      <td>None</td>\n",
              "    </tr>\n",
              "    <tr>\n",
              "      <th>11</th>\n",
              "      <td>2021-11-17 09:38:47+00:00</td>\n",
              "      <td>M. 37лет. v1v2 было в январе, переносил доволь...</td>\n",
              "      <td>1</td>\n",
              "      <td>0</td>\n",
              "      <td>37</td>\n",
              "    </tr>\n",
              "    <tr>\n",
              "      <th>12</th>\n",
              "      <td>2021-11-17 09:20:24+00:00</td>\n",
              "      <td>RV1 Ж55 через 9 месяцев после V2. На второй де...</td>\n",
              "      <td>0</td>\n",
              "      <td>1</td>\n",
              "      <td>55</td>\n",
              "    </tr>\n",
              "    <tr>\n",
              "      <th>13</th>\n",
              "      <td>2021-11-17 06:00:16+00:00</td>\n",
              "      <td>📌ВНИМАНИЕ❗️\\r\\n\\r\\n📯  Участвуем в Телеграм-КИ ...</td>\n",
              "      <td>None</td>\n",
              "      <td>None</td>\n",
              "      <td>None</td>\n",
              "    </tr>\n",
              "    <tr>\n",
              "      <th>14</th>\n",
              "      <td>2021-11-17 05:53:32+00:00</td>\n",
              "      <td>Ж 39 лет беременность 35 недель\\r\\nRV1- Спутни...</td>\n",
              "      <td>0</td>\n",
              "      <td>1</td>\n",
              "      <td>39</td>\n",
              "    </tr>\n",
              "    <tr>\n",
              "      <th>15</th>\n",
              "      <td>2021-11-17 05:28:56+00:00</td>\n",
              "      <td>Дополняю (первое сообщение почему-то не крепит...</td>\n",
              "      <td>None</td>\n",
              "      <td>None</td>\n",
              "      <td>None</td>\n",
              "    </tr>\n",
              "    <tr>\n",
              "      <th>16</th>\n",
              "      <td>2021-11-17 01:38:10+00:00</td>\n",
              "      <td>Ж 26 лет\\r\\nКороной ранее не болела. Хроническ...</td>\n",
              "      <td>0</td>\n",
              "      <td>1</td>\n",
              "      <td>26</td>\n",
              "    </tr>\n",
              "    <tr>\n",
              "      <th>17</th>\n",
              "      <td>2021-11-16 22:13:23+00:00</td>\n",
              "      <td>#ревак М43</td>\n",
              "      <td>1</td>\n",
              "      <td>0</td>\n",
              "      <td>43</td>\n",
              "    </tr>\n",
              "    <tr>\n",
              "      <th>18</th>\n",
              "      <td>2021-11-16 21:04:42+00:00</td>\n",
              "      <td>[К](tg://user?id=916545623) все вопросы и обсу...</td>\n",
              "      <td>None</td>\n",
              "      <td>None</td>\n",
              "      <td>None</td>\n",
              "    </tr>\n",
              "    <tr>\n",
              "      <th>19</th>\n",
              "      <td>2021-11-16 20:00:24+00:00</td>\n",
              "      <td>М18\\r\\nХронические заболевания: ГЭРБ, гастрит,...</td>\n",
              "      <td>1</td>\n",
              "      <td>0</td>\n",
              "      <td>18</td>\n",
              "    </tr>\n",
              "  </tbody>\n",
              "</table>\n",
              "</div>"
            ],
            "text/plain": [
              "                         Date  \\\n",
              "0   2021-11-17 15:28:29+00:00   \n",
              "1   2021-11-17 15:11:57+00:00   \n",
              "2   2021-11-17 15:10:55+00:00   \n",
              "3   2021-11-17 15:07:12+00:00   \n",
              "4   2021-11-17 15:00:03+00:00   \n",
              "5   2021-11-17 14:14:12+00:00   \n",
              "6   2021-11-17 12:30:03+00:00   \n",
              "7   2021-11-17 12:15:33+00:00   \n",
              "8   2021-11-17 12:03:57+00:00   \n",
              "9   2021-11-17 11:03:30+00:00   \n",
              "10  2021-11-17 09:59:42+00:00   \n",
              "11  2021-11-17 09:38:47+00:00   \n",
              "12  2021-11-17 09:20:24+00:00   \n",
              "13  2021-11-17 06:00:16+00:00   \n",
              "14  2021-11-17 05:53:32+00:00   \n",
              "15  2021-11-17 05:28:56+00:00   \n",
              "16  2021-11-17 01:38:10+00:00   \n",
              "17  2021-11-16 22:13:23+00:00   \n",
              "18  2021-11-16 21:04:42+00:00   \n",
              "19  2021-11-16 20:00:24+00:00   \n",
              "\n",
              "                                             Messages  Male Female   Age  \n",
              "0              @duggarrik неделю читает правила чата.  None   None  None  \n",
              "1   обсуждения в чате @sputnik_is_starting. Здесь ...  None   None  None  \n",
              "2   Добрый день, я поставила прививку 03.11 а 10.1...  None   None  None  \n",
              "3   #ревак Спутником-V 16 ноября в 15:00, сразу же...  None   None  None  \n",
              "4   **Народные отчеты о вакцинации\\r\\n\\r\\n**⚠️ **Т...  None   None  None  \n",
              "5   V2 15.11.21 поставили вторую дозу также вместе...     1      0    27  \n",
              "6   📣 **ВЕСТНИК V1V2** выпуск #40.x от 08.11.2021@...  None   None  None  \n",
              "7   Ж. 26, не болела. реактивный артрит в стадии р...     0      1    26  \n",
              "8   #ревак\\r\\nЖ44, без хронич, не болела. \\r\\n04.0...     0      1    44  \n",
              "9   Ж.53. не болела. гипотериоз,АИТ, гипертония. \\...     0      1    53  \n",
              "10  [Online](tg://user?id=1270908782) неделю читае...  None   None  None  \n",
              "11  M. 37лет. v1v2 было в январе, переносил доволь...     1      0    37  \n",
              "12  RV1 Ж55 через 9 месяцев после V2. На второй де...     0      1    55  \n",
              "13  📌ВНИМАНИЕ❗️\\r\\n\\r\\n📯  Участвуем в Телеграм-КИ ...  None   None  None  \n",
              "14  Ж 39 лет беременность 35 недель\\r\\nRV1- Спутни...     0      1    39  \n",
              "15  Дополняю (первое сообщение почему-то не крепит...  None   None  None  \n",
              "16  Ж 26 лет\\r\\nКороной ранее не болела. Хроническ...     0      1    26  \n",
              "17                                         #ревак М43     1      0    43  \n",
              "18  [К](tg://user?id=916545623) все вопросы и обсу...  None   None  None  \n",
              "19  М18\\r\\nХронические заболевания: ГЭРБ, гастрит,...     1      0    18  "
            ]
          },
          "execution_count": 48,
          "metadata": {},
          "output_type": "execute_result"
        }
      ]
    },
    {
      "cell_type": "code",
      "metadata": {
        "colab": {
          "base_uri": "https://localhost:8080/"
        },
        "id": "igvxV60GCktK",
        "outputId": "275423d1-457f-474a-d77c-5cfaf6937c4b"
      },
      "source": [
        "pattern=re.compile(r'([MМЖ])(.{0,2})(\\d\\d)')\n",
        "pat = pattern.search(str('#ревак М43'))\n",
        "print(pat.group(1))"
      ],
      "execution_count": 12,
      "outputs": [
        {
          "output_type": "stream",
          "name": "stdout",
          "text": [
            "М\n"
          ]
        }
      ]
    },
    {
      "cell_type": "code",
      "metadata": {
        "id": "0ygGa9c_9fQ1",
        "outputId": "1e6595b7-8937-4a73-c992-7f8c1af4334f"
      },
      "source": [
        "#количество мужчин/женщин по возрастам\n",
        "%matplotlib inlin\n",
        "\n",
        "import matplotlib.pyplot as plt\n",
        "\n",
        "A = np.zeros((2,10))\n",
        "for i in range (df.shape[0]):\n",
        "    if df['Male'][i] != None:\n",
        "        A[df['Male'][i]][int(df['Age'][i])//10] +=1\n",
        "        \n",
        "x = np.linspace(0, 100, 10)\n",
        "\n",
        "plt.plot(x, A[0], color = 'r', label = 'female')\n",
        "plt.plot(x, A[1], color = 'b', label = 'male')\n",
        "plt.legend()\n",
        "plt.show()"
      ],
      "execution_count": null,
      "outputs": [
        {
          "data": {
            "image/png": "[encoded data removed]",
            "text/plain": [
              "<Figure size 432x288 with 1 Axes>"
            ]
          },
          "metadata": {
            "needs_background": "light"
          },
          "output_type": "display_data"
        }
      ]
    },
    {
      "cell_type": "code",
      "metadata": {
        "id": "twzRX5WU9fQ1",
        "outputId": "1e8c6248-4f77-42bf-935c-1459439c4e99"
      },
      "source": [
        "df[\"Sputnik_V\"] = None\n",
        "df['Sputnik_light'] = None\n",
        "\n",
        "pattern_V = re.compile(r'(V)(.?)([12])')\n",
        "pattern_light = re.compile(r'([Сс])(путник)(.{0,3})([Лл])(айт)')\n",
        "\n",
        "for i in range (df.shape[0]):\n",
        "    pt_V = pattern_V.search(str(df['Messages'][i]))\n",
        "    pt_l = pattern_light.search(str(df['Messages'][i]))\n",
        "    if pt_V != None:\n",
        "        df['Sputnik_V'][i] = 1\n",
        "        df ['Sputnik_light'][i] = 0\n",
        "    elif pt_l != None:\n",
        "        df['Sputnik_V'][i] = 0\n",
        "        df ['Sputnik_light'][i] = 1\n",
        "df.head(10)"
      ],
      "execution_count": null,
      "outputs": [
        {
          "data": {
            "text/html": [
              "<div>\n",
              "<style scoped>\n",
              "    .dataframe tbody tr th:only-of-type {\n",
              "        vertical-align: middle;\n",
              "    }\n",
              "\n",
              "    .dataframe tbody tr th {\n",
              "        vertical-align: top;\n",
              "    }\n",
              "\n",
              "    .dataframe thead th {\n",
              "        text-align: right;\n",
              "    }\n",
              "</style>\n",
              "<table border=\"1\" class=\"dataframe\">\n",
              "  <thead>\n",
              "    <tr style=\"text-align: right;\">\n",
              "      <th></th>\n",
              "      <th>Date</th>\n",
              "      <th>Messages</th>\n",
              "      <th>Male</th>\n",
              "      <th>Female</th>\n",
              "      <th>Age</th>\n",
              "      <th>Sputnik_V</th>\n",
              "      <th>Sputnik_light</th>\n",
              "    </tr>\n",
              "  </thead>\n",
              "  <tbody>\n",
              "    <tr>\n",
              "      <th>0</th>\n",
              "      <td>2021-11-17 15:28:29+00:00</td>\n",
              "      <td>@duggarrik неделю читает правила чата.</td>\n",
              "      <td>None</td>\n",
              "      <td>None</td>\n",
              "      <td>None</td>\n",
              "      <td>None</td>\n",
              "      <td>None</td>\n",
              "    </tr>\n",
              "    <tr>\n",
              "      <th>1</th>\n",
              "      <td>2021-11-17 15:11:57+00:00</td>\n",
              "      <td>обсуждения в чате @sputnik_is_starting. Здесь ...</td>\n",
              "      <td>None</td>\n",
              "      <td>None</td>\n",
              "      <td>None</td>\n",
              "      <td>None</td>\n",
              "      <td>None</td>\n",
              "    </tr>\n",
              "    <tr>\n",
              "      <th>2</th>\n",
              "      <td>2021-11-17 15:10:55+00:00</td>\n",
              "      <td>Добрый день, я поставила прививку 03.11 а 10.1...</td>\n",
              "      <td>None</td>\n",
              "      <td>None</td>\n",
              "      <td>None</td>\n",
              "      <td>None</td>\n",
              "      <td>None</td>\n",
              "    </tr>\n",
              "    <tr>\n",
              "      <th>3</th>\n",
              "      <td>2021-11-17 15:07:12+00:00</td>\n",
              "      <td>#ревак Спутником-V 16 ноября в 15:00, сразу же...</td>\n",
              "      <td>None</td>\n",
              "      <td>None</td>\n",
              "      <td>None</td>\n",
              "      <td>1</td>\n",
              "      <td>0</td>\n",
              "    </tr>\n",
              "    <tr>\n",
              "      <th>4</th>\n",
              "      <td>2021-11-17 15:00:03+00:00</td>\n",
              "      <td>**Народные отчеты о вакцинации\\r\\n\\r\\n**⚠️ **Т...</td>\n",
              "      <td>None</td>\n",
              "      <td>None</td>\n",
              "      <td>None</td>\n",
              "      <td>1</td>\n",
              "      <td>0</td>\n",
              "    </tr>\n",
              "    <tr>\n",
              "      <th>5</th>\n",
              "      <td>2021-11-17 14:14:12+00:00</td>\n",
              "      <td>V2 15.11.21 поставили вторую дозу также вместе...</td>\n",
              "      <td>1</td>\n",
              "      <td>0</td>\n",
              "      <td>27</td>\n",
              "      <td>1</td>\n",
              "      <td>0</td>\n",
              "    </tr>\n",
              "    <tr>\n",
              "      <th>6</th>\n",
              "      <td>2021-11-17 12:30:03+00:00</td>\n",
              "      <td>📣 **ВЕСТНИК V1V2** выпуск #40.x от 08.11.2021@...</td>\n",
              "      <td>None</td>\n",
              "      <td>None</td>\n",
              "      <td>None</td>\n",
              "      <td>1</td>\n",
              "      <td>0</td>\n",
              "    </tr>\n",
              "    <tr>\n",
              "      <th>7</th>\n",
              "      <td>2021-11-17 12:15:33+00:00</td>\n",
              "      <td>Ж. 26, не болела. реактивный артрит в стадии р...</td>\n",
              "      <td>0</td>\n",
              "      <td>1</td>\n",
              "      <td>26</td>\n",
              "      <td>1</td>\n",
              "      <td>0</td>\n",
              "    </tr>\n",
              "    <tr>\n",
              "      <th>8</th>\n",
              "      <td>2021-11-17 12:03:57+00:00</td>\n",
              "      <td>#ревак\\r\\nЖ44, без хронич, не болела. \\r\\n04.0...</td>\n",
              "      <td>0</td>\n",
              "      <td>1</td>\n",
              "      <td>44</td>\n",
              "      <td>1</td>\n",
              "      <td>0</td>\n",
              "    </tr>\n",
              "    <tr>\n",
              "      <th>9</th>\n",
              "      <td>2021-11-17 11:03:30+00:00</td>\n",
              "      <td>Ж.53. не болела. гипотериоз,АИТ, гипертония. \\...</td>\n",
              "      <td>0</td>\n",
              "      <td>1</td>\n",
              "      <td>53</td>\n",
              "      <td>1</td>\n",
              "      <td>0</td>\n",
              "    </tr>\n",
              "  </tbody>\n",
              "</table>\n",
              "</div>"
            ],
            "text/plain": [
              "                        Date  \\\n",
              "0  2021-11-17 15:28:29+00:00   \n",
              "1  2021-11-17 15:11:57+00:00   \n",
              "2  2021-11-17 15:10:55+00:00   \n",
              "3  2021-11-17 15:07:12+00:00   \n",
              "4  2021-11-17 15:00:03+00:00   \n",
              "5  2021-11-17 14:14:12+00:00   \n",
              "6  2021-11-17 12:30:03+00:00   \n",
              "7  2021-11-17 12:15:33+00:00   \n",
              "8  2021-11-17 12:03:57+00:00   \n",
              "9  2021-11-17 11:03:30+00:00   \n",
              "\n",
              "                                            Messages  Male Female   Age  \\\n",
              "0             @duggarrik неделю читает правила чата.  None   None  None   \n",
              "1  обсуждения в чате @sputnik_is_starting. Здесь ...  None   None  None   \n",
              "2  Добрый день, я поставила прививку 03.11 а 10.1...  None   None  None   \n",
              "3  #ревак Спутником-V 16 ноября в 15:00, сразу же...  None   None  None   \n",
              "4  **Народные отчеты о вакцинации\\r\\n\\r\\n**⚠️ **Т...  None   None  None   \n",
              "5  V2 15.11.21 поставили вторую дозу также вместе...     1      0    27   \n",
              "6  📣 **ВЕСТНИК V1V2** выпуск #40.x от 08.11.2021@...  None   None  None   \n",
              "7  Ж. 26, не болела. реактивный артрит в стадии р...     0      1    26   \n",
              "8  #ревак\\r\\nЖ44, без хронич, не болела. \\r\\n04.0...     0      1    44   \n",
              "9  Ж.53. не болела. гипотериоз,АИТ, гипертония. \\...     0      1    53   \n",
              "\n",
              "  Sputnik_V Sputnik_light  \n",
              "0      None          None  \n",
              "1      None          None  \n",
              "2      None          None  \n",
              "3         1             0  \n",
              "4         1             0  \n",
              "5         1             0  \n",
              "6         1             0  \n",
              "7         1             0  \n",
              "8         1             0  \n",
              "9         1             0  "
            ]
          },
          "execution_count": 50,
          "metadata": {},
          "output_type": "execute_result"
        }
      ]
    },
    {
      "cell_type": "code",
      "metadata": {
        "id": "T604kwmG9fQ2",
        "outputId": "dcc5de84-37e9-45b5-999d-6115c30bd089"
      },
      "source": [
        "for i in range(df.shape[0]):\n",
        "    if df['Date'][i].month == 11:\n",
        "        if df['Sputnik_V'][i] == 1:\n",
        "            A[df['Date'][i].day] +=1\n",
        "        elif df['Sputnik_V'][i] == 0:\n",
        "            B[df['Date'][i].day] +=1\n",
        "    else:\n",
        "        break\n"
      ],
      "execution_count": null,
      "outputs": [
        {
          "data": {
            "text/plain": [
              "{1: 84,\n",
              " 2: 70,\n",
              " 3: 42,\n",
              " 4: 98,\n",
              " 5: 133,\n",
              " 6: 196,\n",
              " 7: 98,\n",
              " 8: 91,\n",
              " 9: 70,\n",
              " 10: 63,\n",
              " 11: 84,\n",
              " 12: 112,\n",
              " 13: 161,\n",
              " 14: 175,\n",
              " 15: 154,\n",
              " 16: 91,\n",
              " 17: 70}"
            ]
          },
          "execution_count": 104,
          "metadata": {},
          "output_type": "execute_result"
        }
      ]
    },
    {
      "cell_type": "code",
      "metadata": {
        "id": "rA1O7u4q9fQ2",
        "outputId": "a133976a-dc97-4dcf-e2b2-8b5980be1e4c"
      },
      "source": [
        "#упоминания Спутника V за ноябрь (вероятно, привитые этим с)\n",
        "plt.bar(list(A.keys()), A.values(), color='g')"
      ],
      "execution_count": null,
      "outputs": [
        {
          "data": {
            "text/plain": [
              "<BarContainer object of 17 artists>"
            ]
          },
          "execution_count": 103,
          "metadata": {},
          "output_type": "execute_result"
        },
        {
          "data": {
            "image/png": "[encoded data removed]",
            "text/plain": [
              "<Figure size 432x288 with 1 Axes>"
            ]
          },
          "metadata": {
            "needs_background": "light"
          },
          "output_type": "display_data"
        }
      ]
    },
    {
      "cell_type": "code",
      "metadata": {
        "id": "QHZ8TGVy9fQ3",
        "outputId": "d467220e-72d7-4e77-b5bd-f65ceb87a42d"
      },
      "source": [
        "# Спутник Лайт (кол-во за ноябрь)\n",
        "plt.bar(list(B.keys()), B.values(), color='g')"
      ],
      "execution_count": null,
      "outputs": [
        {
          "data": {
            "text/plain": [
              "<BarContainer object of 17 artists>"
            ]
          },
          "execution_count": 101,
          "metadata": {},
          "output_type": "execute_result"
        },
        {
          "data": {
            "image/png": "[encoded data removed]",
            "text/plain": [
              "<Figure size 432x288 with 1 Axes>"
            ]
          },
          "metadata": {
            "needs_background": "light"
          },
          "output_type": "display_data"
        }
      ]
    },
    {
      "cell_type": "code",
      "metadata": {
        "id": "C3-T__bQ9fQ3"
      },
      "source": [
        ""
      ],
      "execution_count": null,
      "outputs": []
    }
  ]
}